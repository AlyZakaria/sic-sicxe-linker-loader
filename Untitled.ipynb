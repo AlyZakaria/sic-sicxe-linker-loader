{
 "cells": [
  {
   "cell_type": "code",
   "execution_count": 1,
   "id": "5ba9c7ab",
   "metadata": {},
   "outputs": [],
   "source": [
    "string1 = '107A'"
   ]
  },
  {
   "cell_type": "code",
   "execution_count": 2,
   "id": "5d538a87",
   "metadata": {},
   "outputs": [
    {
     "ename": "TypeError",
     "evalue": "'str' object cannot be interpreted as an integer",
     "output_type": "error",
     "traceback": [
      "\u001b[1;31m---------------------------------------------------------------------------\u001b[0m",
      "\u001b[1;31mTypeError\u001b[0m                                 Traceback (most recent call last)",
      "Cell \u001b[1;32mIn [2], line 1\u001b[0m\n\u001b[1;32m----> 1\u001b[0m \u001b[38;5;28mprint\u001b[39m(\u001b[38;5;28;43mhex\u001b[39;49m\u001b[43m(\u001b[49m\u001b[43mstring1\u001b[49m\u001b[43m)\u001b[49m)\n",
      "\u001b[1;31mTypeError\u001b[0m: 'str' object cannot be interpreted as an integer"
     ]
    }
   ],
   "source": [
    "print(hex(string1))"
   ]
  },
  {
   "cell_type": "code",
   "execution_count": 4,
   "id": "3b882e40",
   "metadata": {},
   "outputs": [
    {
     "data": {
      "text/plain": [
       "4218"
      ]
     },
     "execution_count": 4,
     "metadata": {},
     "output_type": "execute_result"
    }
   ],
   "source": [
    "int(string1,base = 16)"
   ]
  },
  {
   "cell_type": "code",
   "execution_count": 5,
   "id": "3fea9866",
   "metadata": {},
   "outputs": [
    {
     "name": "stdout",
     "output_type": "stream",
     "text": [
      "0x107a\n"
     ]
    }
   ],
   "source": [
    "print(hex(int(string1,base=16)))"
   ]
  },
  {
   "cell_type": "code",
   "execution_count": null,
   "id": "85a795be",
   "metadata": {},
   "outputs": [],
   "source": []
  }
 ],
 "metadata": {
  "kernelspec": {
   "display_name": "Python 3 (ipykernel)",
   "language": "python",
   "name": "python3"
  },
  "language_info": {
   "codemirror_mode": {
    "name": "ipython",
    "version": 3
   },
   "file_extension": ".py",
   "mimetype": "text/x-python",
   "name": "python",
   "nbconvert_exporter": "python",
   "pygments_lexer": "ipython3",
   "version": "3.11.0"
  }
 },
 "nbformat": 4,
 "nbformat_minor": 5
}
